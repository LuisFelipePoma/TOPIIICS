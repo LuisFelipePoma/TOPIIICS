{
  "nbformat": 4,
  "nbformat_minor": 0,
  "metadata": {
    "colab": {
      "provenance": []
    },
    "kernelspec": {
      "name": "python3",
      "display_name": "Python 3"
    },
    "language_info": {
      "name": "python"
    }
  },
  "cells": [
    {
      "cell_type": "code",
      "execution_count": 2,
      "metadata": {
        "colab": {
          "base_uri": "https://localhost:8080/"
        },
        "id": "RXOCCC89XrWM",
        "outputId": "b2fe16bd-11d4-47a2-b119-df42f0b7c376"
      },
      "outputs": [
        {
          "output_type": "stream",
          "name": "stdout",
          "text": [
            "2 1 3\n"
          ]
        }
      ],
      "source": [
        "def solve1():\n",
        "    for x1 in [1, 2]:\n",
        "        for x2 in [1, 2]:\n",
        "            if x1 != x2:\n",
        "                for x3 in [1, 2, 3]:\n",
        "                    if x1 != x3 and x2 != x3 and 3*x1 + x2 + x3 == 10:\n",
        "                        print(x1, x2, x3)\n",
        "\n",
        "solve1()"
      ]
    },
    {
      "cell_type": "code",
      "source": [
        "def convert(word, d):\n",
        "    num = 0\n",
        "    for ch in word:\n",
        "        num = num*10 + d[ch]\n",
        "    return num"
      ],
      "metadata": {
        "id": "PRgwgWNRuqkf"
      },
      "execution_count": 5,
      "outputs": []
    },
    {
      "cell_type": "code",
      "source": [
        "import itertools\n",
        "\n",
        "def solve(words):\n",
        "    chars = list(set(''.join(words)))\n",
        "    n = len(chars)\n",
        "    for perm in itertools.permutations(range(10), n):\n",
        "        d = dict(zip(chars, perm))\n",
        "        numbers = [convert(word, d) for word in words]\n",
        "        if sum(numbers[:-1]) == numbers[-1]:\n",
        "            print(numbers, d)\n",
        "\n",
        "solve(['SEND', 'MORE', 'MONEY'])"
      ],
      "metadata": {
        "colab": {
          "base_uri": "https://localhost:8080/"
        },
        "id": "ZT151rGPYN0q",
        "outputId": "7504ba1b-5bb9-4f56-c995-5094520f15e9"
      },
      "execution_count": 6,
      "outputs": [
        {
          "output_type": "stream",
          "name": "stdout",
          "text": [
            "[9567, 1085, 10652] {'O': 0, 'Y': 2, 'R': 8, 'M': 1, 'E': 5, 'N': 6, 'S': 9, 'D': 7}\n",
            "[2817, 368, 3185] {'O': 3, 'Y': 5, 'R': 6, 'M': 0, 'E': 8, 'N': 1, 'S': 2, 'D': 7}\n",
            "[2819, 368, 3187] {'O': 3, 'Y': 7, 'R': 6, 'M': 0, 'E': 8, 'N': 1, 'S': 2, 'D': 9}\n",
            "[3719, 457, 4176] {'O': 4, 'Y': 6, 'R': 5, 'M': 0, 'E': 7, 'N': 1, 'S': 3, 'D': 9}\n",
            "[3829, 458, 4287] {'O': 4, 'Y': 7, 'R': 5, 'M': 0, 'E': 8, 'N': 2, 'S': 3, 'D': 9}\n",
            "[3712, 467, 4179] {'O': 4, 'Y': 9, 'R': 6, 'M': 0, 'E': 7, 'N': 1, 'S': 3, 'D': 2}\n",
            "[3821, 468, 4289] {'O': 4, 'Y': 9, 'R': 6, 'M': 0, 'E': 8, 'N': 2, 'S': 3, 'D': 1}\n",
            "[5849, 638, 6487] {'O': 6, 'Y': 7, 'R': 3, 'M': 0, 'E': 8, 'N': 4, 'S': 5, 'D': 9}\n",
            "[5731, 647, 6378] {'O': 6, 'Y': 8, 'R': 4, 'M': 0, 'E': 7, 'N': 3, 'S': 5, 'D': 1}\n",
            "[5732, 647, 6379] {'O': 6, 'Y': 9, 'R': 4, 'M': 0, 'E': 7, 'N': 3, 'S': 5, 'D': 2}\n",
            "[6853, 728, 7581] {'O': 7, 'Y': 1, 'R': 2, 'M': 0, 'E': 8, 'N': 5, 'S': 6, 'D': 3}\n",
            "[6419, 724, 7143] {'O': 7, 'Y': 3, 'R': 2, 'M': 0, 'E': 4, 'N': 1, 'S': 6, 'D': 9}\n",
            "[6415, 734, 7149] {'O': 7, 'Y': 9, 'R': 3, 'M': 0, 'E': 4, 'N': 1, 'S': 6, 'D': 5}\n",
            "[6524, 735, 7259] {'O': 7, 'Y': 9, 'R': 3, 'M': 0, 'E': 5, 'N': 2, 'S': 6, 'D': 4}\n",
            "[6851, 738, 7589] {'O': 7, 'Y': 9, 'R': 3, 'M': 0, 'E': 8, 'N': 5, 'S': 6, 'D': 1}\n",
            "[7429, 814, 8243] {'O': 8, 'Y': 3, 'R': 1, 'M': 0, 'E': 4, 'N': 2, 'S': 7, 'D': 9}\n",
            "[7539, 815, 8354] {'O': 8, 'Y': 4, 'R': 1, 'M': 0, 'E': 5, 'N': 3, 'S': 7, 'D': 9}\n",
            "[7649, 816, 8465] {'O': 8, 'Y': 5, 'R': 1, 'M': 0, 'E': 6, 'N': 4, 'S': 7, 'D': 9}\n",
            "[7531, 825, 8356] {'O': 8, 'Y': 6, 'R': 2, 'M': 0, 'E': 5, 'N': 3, 'S': 7, 'D': 1}\n",
            "[7316, 823, 8139] {'O': 8, 'Y': 9, 'R': 2, 'M': 0, 'E': 3, 'N': 1, 'S': 7, 'D': 6}\n",
            "[7534, 825, 8359] {'O': 8, 'Y': 9, 'R': 2, 'M': 0, 'E': 5, 'N': 3, 'S': 7, 'D': 4}\n",
            "[7643, 826, 8469] {'O': 8, 'Y': 9, 'R': 2, 'M': 0, 'E': 6, 'N': 4, 'S': 7, 'D': 3}\n",
            "[8432, 914, 9346] {'O': 9, 'Y': 6, 'R': 1, 'M': 0, 'E': 4, 'N': 3, 'S': 8, 'D': 2}\n",
            "[8324, 913, 9237] {'O': 9, 'Y': 7, 'R': 1, 'M': 0, 'E': 3, 'N': 2, 'S': 8, 'D': 4}\n",
            "[8542, 915, 9457] {'O': 9, 'Y': 7, 'R': 1, 'M': 0, 'E': 5, 'N': 4, 'S': 8, 'D': 2}\n"
          ]
        }
      ]
    },
    {
      "cell_type": "code",
      "source": [
        "!python -m pip install -U ortools"
      ],
      "metadata": {
        "colab": {
          "base_uri": "https://localhost:8080/"
        },
        "id": "c4oLXOgvvvHo",
        "outputId": "44bf2176-d291-4247-f4be-e86ab99ed6c3"
      },
      "execution_count": 7,
      "outputs": [
        {
          "output_type": "stream",
          "name": "stdout",
          "text": [
            "Collecting ortools\n",
            "  Downloading ortools-9.12.4544-cp311-cp311-manylinux_2_27_x86_64.manylinux_2_28_x86_64.whl.metadata (3.3 kB)\n",
            "Collecting absl-py>=2.0.0 (from ortools)\n",
            "  Downloading absl_py-2.2.2-py3-none-any.whl.metadata (2.6 kB)\n",
            "Requirement already satisfied: numpy>=1.13.3 in /usr/local/lib/python3.11/dist-packages (from ortools) (2.0.2)\n",
            "Requirement already satisfied: pandas>=2.0.0 in /usr/local/lib/python3.11/dist-packages (from ortools) (2.2.2)\n",
            "Requirement already satisfied: protobuf<5.30,>=5.29.3 in /usr/local/lib/python3.11/dist-packages (from ortools) (5.29.4)\n",
            "Requirement already satisfied: immutabledict>=3.0.0 in /usr/local/lib/python3.11/dist-packages (from ortools) (4.2.1)\n",
            "Requirement already satisfied: python-dateutil>=2.8.2 in /usr/local/lib/python3.11/dist-packages (from pandas>=2.0.0->ortools) (2.8.2)\n",
            "Requirement already satisfied: pytz>=2020.1 in /usr/local/lib/python3.11/dist-packages (from pandas>=2.0.0->ortools) (2025.2)\n",
            "Requirement already satisfied: tzdata>=2022.7 in /usr/local/lib/python3.11/dist-packages (from pandas>=2.0.0->ortools) (2025.2)\n",
            "Requirement already satisfied: six>=1.5 in /usr/local/lib/python3.11/dist-packages (from python-dateutil>=2.8.2->pandas>=2.0.0->ortools) (1.17.0)\n",
            "Downloading ortools-9.12.4544-cp311-cp311-manylinux_2_27_x86_64.manylinux_2_28_x86_64.whl (24.9 MB)\n",
            "\u001b[2K   \u001b[90m━━━━━━━━━━━━━━━━━━━━━━━━━━━━━━━━━━━━━━━━\u001b[0m \u001b[32m24.9/24.9 MB\u001b[0m \u001b[31m47.4 MB/s\u001b[0m eta \u001b[36m0:00:00\u001b[0m\n",
            "\u001b[?25hDownloading absl_py-2.2.2-py3-none-any.whl (135 kB)\n",
            "\u001b[2K   \u001b[90m━━━━━━━━━━━━━━━━━━━━━━━━━━━━━━━━━━━━━━━━\u001b[0m \u001b[32m135.6/135.6 kB\u001b[0m \u001b[31m8.0 MB/s\u001b[0m eta \u001b[36m0:00:00\u001b[0m\n",
            "\u001b[?25hInstalling collected packages: absl-py, ortools\n",
            "  Attempting uninstall: absl-py\n",
            "    Found existing installation: absl-py 1.4.0\n",
            "    Uninstalling absl-py-1.4.0:\n",
            "      Successfully uninstalled absl-py-1.4.0\n",
            "Successfully installed absl-py-2.2.2 ortools-9.12.4544\n"
          ]
        }
      ]
    },
    {
      "cell_type": "code",
      "source": [
        "from ortools.sat.python import cp_model"
      ],
      "metadata": {
        "id": "HmXkx0F-v42X"
      },
      "execution_count": 8,
      "outputs": []
    },
    {
      "cell_type": "markdown",
      "source": [
        "$$\n",
        "3x_1 + x_2 + x_3 = 10\n",
        "$$\n",
        "\n",
        "$$\n",
        "x_1, x_2 \\in \\{1, 2\\}, x_3 \\in \\{1, 2, 3\\}\n",
        "$$"
      ],
      "metadata": {
        "id": "3orySD5lwEF5"
      }
    },
    {
      "cell_type": "code",
      "source": [
        "model = cp_model.CpModel()\n",
        "\n",
        "x1 = model.NewIntVar(1, 2, 'x1')\n",
        "x2 = model.NewIntVar(1, 2, 'x2')\n",
        "x3 = model.NewIntVar(1, 3, 'x3')\n",
        "\n",
        "model.Add(3*x1 + x2 + x3 == 10)\n",
        "model.AddAllDifferent([x1, x2, x3])\n",
        "\n",
        "solver = cp_model.CpSolver()\n",
        "status = solver.Solve(model)\n",
        "\n",
        "if status == cp_model.OPTIMAL:\n",
        "    print(solver.Value(x1), solver.Value(x2), solver.Value(x3))"
      ],
      "metadata": {
        "colab": {
          "base_uri": "https://localhost:8080/"
        },
        "id": "jTwdfU6DwCnr",
        "outputId": "703a17b4-4a65-4457-db93-625f56db5d83"
      },
      "execution_count": 10,
      "outputs": [
        {
          "output_type": "stream",
          "name": "stdout",
          "text": [
            "2 1 3\n"
          ]
        }
      ]
    },
    {
      "cell_type": "code",
      "source": [
        "import numpy as np\n",
        "import matplotlib.pyplot as plt"
      ],
      "metadata": {
        "id": "TVh8ve-cynKl"
      },
      "execution_count": 11,
      "outputs": []
    },
    {
      "cell_type": "code",
      "source": [
        "def showBoard(b):\n",
        "    n = len(b)\n",
        "    board = np.zeros((n, n), dtype=int)\n",
        "    board[::2, ::2] = 1\n",
        "    board[1::2, 1::2] = 1\n",
        "\n",
        "    plt.imshow(board)\n",
        "    for row, col in enumerate(b):\n",
        "        plt.text(col, row, u'\\u265b', ha='center', va='center',\n",
        "                 color='red', size=200/n)\n",
        "    plt.axis('off')\n",
        "    plt.show()\n",
        "\n",
        "showBoard([1, 3, 0, 2])"
      ],
      "metadata": {
        "colab": {
          "base_uri": "https://localhost:8080/",
          "height": 406
        },
        "id": "EHzxSsMXxthr",
        "outputId": "e0568577-c2dd-4ec1-da39-b9ff547b3f59"
      },
      "execution_count": 17,
      "outputs": [
        {
          "output_type": "display_data",
          "data": {
            "text/plain": [
              "<Figure size 640x480 with 1 Axes>"
            ],
            "image/png": "[encoded data removed]"
          },
          "metadata": {}
        }
      ]
    },
    {
      "cell_type": "code",
      "source": [
        "def nqueens(n):\n",
        "    model = cp_model.CpModel()\n",
        "    variables = [model.NewIntVar(0, n-1, f'x{i}') for i in range(n)]\n",
        "    model.AddAllDifferent(variables)\n",
        "    model.AddAllDifferent(variables[i] + i for i in range(n))\n",
        "    model.AddAllDifferent(variables[i] - i for i in range(n))\n",
        "\n",
        "    solver = cp_model.CpSolver()\n",
        "    status = solver.Solve(model)\n",
        "\n",
        "    if status == cp_model.OPTIMAL:\n",
        "        showBoard([solver.Value(var) for var in variables])\n",
        "    else:\n",
        "        print('No solution')"
      ],
      "metadata": {
        "id": "d56k33fly7XV"
      },
      "execution_count": 37,
      "outputs": []
    },
    {
      "cell_type": "code",
      "source": [
        "nqueens(8)"
      ],
      "metadata": {
        "colab": {
          "base_uri": "https://localhost:8080/",
          "height": 406
        },
        "id": "S1oXeiDz2foH",
        "outputId": "67226dad-770a-4c40-cc69-1cbc139d211e"
      },
      "execution_count": 39,
      "outputs": [
        {
          "output_type": "display_data",
          "data": {
            "text/plain": [
              "<Figure size 640x480 with 1 Axes>"
            ],
            "image/png": "[encoded data removed]"
          },
          "metadata": {}
        }
      ]
    },
    {
      "cell_type": "code",
      "source": [
        "def toNumber(values, word):\n",
        "    result = 0\n",
        "    for ch in word:\n",
        "        result = result*10 + values[ch]\n",
        "    return result"
      ],
      "metadata": {
        "id": "j8Bu7yIO9r4R"
      },
      "execution_count": 46,
      "outputs": []
    },
    {
      "cell_type": "code",
      "source": [
        "def solve2(words):\n",
        "    chars = list(set(''.join(words)))\n",
        "    n = len(chars)\n",
        "    model = cp_model.CpModel()\n",
        "    values = { ch: model.NewIntVar(0, 9, f'x{ch}') for ch in chars}\n",
        "    model.AddAllDifferent([value for value in values.values()])\n",
        "    leftside = 0\n",
        "    for i in range(len(words) - 1):\n",
        "        leftside = leftside + toNumber(values, words[i])\n",
        "    rightside = toNumber(values, words[-1])\n",
        "    model.add(leftside == rightside)\n",
        "\n",
        "    solver = cp_model.CpSolver()\n",
        "    status = solver.Solve(model)\n",
        "\n",
        "    if status == cp_model.OPTIMAL:\n",
        "        print({ch: solver.Value(values[ch]) for ch in chars})\n",
        "    else:\n",
        "        print('No solution')\n",
        "\n",
        "solve2(['his', 'hey', 'yapd', 'hell'])"
      ],
      "metadata": {
        "colab": {
          "base_uri": "https://localhost:8080/"
        },
        "id": "vqRXkWTC1iMG",
        "outputId": "61c869af-05d9-455a-cd01-62c8b5a54f11"
      },
      "execution_count": 55,
      "outputs": [
        {
          "output_type": "stream",
          "name": "stdout",
          "text": [
            "{'l': 5, 'y': 1, 'i': 3, 'h': 2, 'e': 4, 'p': 7, 's': 6, 'd': 8, 'a': 9}\n"
          ]
        }
      ]
    },
    {
      "cell_type": "code",
      "source": [
        "# {'O': 0, 'Y': 2, 'R': 8, 'M': 1, 'E': 5, 'N': 6, 'S': 9, 'D': 7}"
      ],
      "metadata": {
        "id": "jZ4p97ov7nFA"
      },
      "execution_count": null,
      "outputs": []
    }
  ]
}